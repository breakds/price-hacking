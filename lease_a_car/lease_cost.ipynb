{
 "cells": [
  {
   "cell_type": "code",
   "execution_count": 1,
   "metadata": {},
   "outputs": [],
   "source": [
    "import numpy as np"
   ]
  },
  {
   "cell_type": "markdown",
   "metadata": {},
   "source": [
    "# Input Factors"
   ]
  },
  {
   "cell_type": "code",
   "execution_count": 98,
   "metadata": {},
   "outputs": [],
   "source": [
    "MSRP = 36500\n",
    "residual = 43130 * 0.57 # How much $ value does it have after 3 years?\n",
    "interest_rate = 0.00088 * 2400 # in percent. 5% total interest rate meaning in 3 year you pay \n",
    "lease_months = 36 # 36 month means 3 year lease\n",
    "tax_rate = 5\n",
    "\n",
    "# If you are doing a refundable security deposit, simply calculate if \n",
    "# the reduced payment on your lease will be higher than the guaranteed \n",
    "# return on your money. In other words, if you put down $3000 and get $20/mo off, \n",
    "# at the end of 3 years you'll have $3000+20x36 = $3,720. That's a 7.44% guaranteed return!\n",
    "refundable_security = 1800\n",
    "alternative_interest_rate = interest_rate\n",
    "\n",
    "# Rebate\n",
    "rebate = 1250"
   ]
  },
  {
   "cell_type": "code",
   "execution_count": 100,
   "metadata": {},
   "outputs": [
    {
     "data": {
      "text/plain": [
       "34.72222222222222"
      ]
     },
     "execution_count": 100,
     "metadata": {},
     "output_type": "execute_result"
    }
   ],
   "source": [
    "1250 / 36"
   ]
  },
  {
   "cell_type": "markdown",
   "metadata": {},
   "source": [
    "# Calculation"
   ]
  },
  {
   "cell_type": "code",
   "execution_count": 101,
   "metadata": {},
   "outputs": [],
   "source": [
    "class PricePackage(object):\n",
    "    def __init__(self, MSRP, residual, interest_rate, lease_months, rebate, tax_rate):\n",
    "        self.capitalized_cost = MSRP\n",
    "        self.depreciation = self.capitalized_cost - residual\n",
    "        self.depreciation_per_month = float(self.depreciation) / lease_months\n",
    "        self.finance_fee_per_month = float(self.capitalized_cost + residual) * interest_rate / 2400.0\n",
    "        self.finance_fee = self.finance_fee_per_month * lease_months\n",
    "        self.total_per_month = self.depreciation_per_month + self.finance_fee_per_month - rebate / lease_months\n",
    "        self.total_per_month_taxed = self.total_per_month * (1.0 + tax_rate / 100.0)\n",
    "        \n",
    "    def __repr__(self):\n",
    "        a = 'Depreciation: {} / month ({})'.format(\n",
    "            self.depreciation_per_month, self.depreciation)\n",
    "        b = 'Finance Fee:  {} / month ({})'.format(\n",
    "            self.finance_fee_per_month, self.finance_fee)\n",
    "        c = 'Total -> :    {} ({} w/ tax) / month'.format(\n",
    "            self.total_per_month, self.total_per_month_taxed)\n",
    "        return '\\n'.join([a, b, c])"
   ]
  },
  {
   "cell_type": "code",
   "execution_count": 102,
   "metadata": {},
   "outputs": [
    {
     "ename": "TypeError",
     "evalue": "__init__() missing 1 required positional argument: 'tax_rate'",
     "output_type": "error",
     "traceback": [
      "\u001b[0;31m---------------------------------------------------------------------------\u001b[0m",
      "\u001b[0;31mTypeError\u001b[0m                                 Traceback (most recent call last)",
      "\u001b[0;32m<ipython-input-102-74e78ab2ac6f>\u001b[0m in \u001b[0;36m<module>\u001b[0;34m\u001b[0m\n\u001b[0;32m----> 1\u001b[0;31m \u001b[0mpkg\u001b[0m \u001b[0;34m=\u001b[0m \u001b[0mPricePackage\u001b[0m\u001b[0;34m(\u001b[0m\u001b[0mMSRP\u001b[0m\u001b[0;34m,\u001b[0m \u001b[0mresidual\u001b[0m\u001b[0;34m,\u001b[0m \u001b[0minterest_rate\u001b[0m\u001b[0;34m,\u001b[0m \u001b[0mlease_months\u001b[0m\u001b[0;34m,\u001b[0m \u001b[0mtax_rate\u001b[0m\u001b[0;34m)\u001b[0m\u001b[0;34m\u001b[0m\u001b[0;34m\u001b[0m\u001b[0m\n\u001b[0m\u001b[1;32m      2\u001b[0m \u001b[0mprint\u001b[0m\u001b[0;34m(\u001b[0m\u001b[0mpkg\u001b[0m\u001b[0;34m)\u001b[0m\u001b[0;34m\u001b[0m\u001b[0;34m\u001b[0m\u001b[0m\n\u001b[1;32m      3\u001b[0m \u001b[0;32mif\u001b[0m \u001b[0mrefundable_security\u001b[0m \u001b[0;34m>\u001b[0m \u001b[0;36m0\u001b[0m\u001b[0;34m:\u001b[0m\u001b[0;34m\u001b[0m\u001b[0;34m\u001b[0m\u001b[0m\n\u001b[1;32m      4\u001b[0m     \u001b[0malter_pkg\u001b[0m \u001b[0;34m=\u001b[0m \u001b[0mPricePackage\u001b[0m\u001b[0;34m(\u001b[0m\u001b[0mMSRP\u001b[0m\u001b[0;34m,\u001b[0m \u001b[0mresidual\u001b[0m\u001b[0;34m,\u001b[0m \u001b[0malternative_interest_rate\u001b[0m\u001b[0;34m,\u001b[0m \u001b[0mlease_months\u001b[0m\u001b[0;34m,\u001b[0m \u001b[0mtax_rate\u001b[0m\u001b[0;34m)\u001b[0m\u001b[0;34m\u001b[0m\u001b[0;34m\u001b[0m\u001b[0m\n\u001b[1;32m      5\u001b[0m     \u001b[0mfinance_fee_gain\u001b[0m \u001b[0;34m=\u001b[0m \u001b[0mpkg\u001b[0m\u001b[0;34m.\u001b[0m\u001b[0mfinance_fee\u001b[0m \u001b[0;34m-\u001b[0m \u001b[0malter_pkg\u001b[0m\u001b[0;34m.\u001b[0m\u001b[0mfinance_fee\u001b[0m\u001b[0;34m\u001b[0m\u001b[0;34m\u001b[0m\u001b[0m\n",
      "\u001b[0;31mTypeError\u001b[0m: __init__() missing 1 required positional argument: 'tax_rate'"
     ]
    }
   ],
   "source": [
    "pkg = PricePackage(MSRP, residual, interest_rate, lease_months, tax_rate)\n",
    "print(pkg)\n",
    "if refundable_security > 0:\n",
    "    alter_pkg = PricePackage(MSRP, residual, alternative_interest_rate, lease_months, tax_rate)\n",
    "    finance_fee_gain = pkg.finance_fee - alter_pkg.finance_fee\n",
    "    \n",
    "    print('-------------------------------')\n",
    "    print('Alternative total: {} / month'.format(alter_pkg.total_per_month_taxed))\n",
    "    print('Security return: {} ({}%) in {} months'.format(\n",
    "        finance_fee_gain, finance_fee_gain / refundable_security * 100, lease_months))\n",
    "    "
   ]
  }
 ],
 "metadata": {
  "kernelspec": {
   "display_name": "Python 3",
   "language": "python",
   "name": "python3"
  },
  "language_info": {
   "codemirror_mode": {
    "name": "ipython",
    "version": 3
   },
   "file_extension": ".py",
   "mimetype": "text/x-python",
   "name": "python",
   "nbconvert_exporter": "python",
   "pygments_lexer": "ipython3",
   "version": "3.7.6"
  }
 },
 "nbformat": 4,
 "nbformat_minor": 4
}
